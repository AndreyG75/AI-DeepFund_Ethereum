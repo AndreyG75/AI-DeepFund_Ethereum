{
 "cells": [
  {
   "cell_type": "code",
   "execution_count": 1,
   "id": "5484f166-c750-4917-8794-946fca82b8b6",
   "metadata": {},
   "outputs": [],
   "source": [
    "import pandas as pd\n",
    "import requests\n",
    "import time"
   ]
  },
  {
   "cell_type": "code",
   "execution_count": 2,
   "id": "27118275-47a5-4874-8418-b9b54a7b2f27",
   "metadata": {},
   "outputs": [],
   "source": [
    "# Загрузим исходную таблицу\n",
    "repos = pd.read_csv('https://raw.githubusercontent.com/AndreyG75/AI-DeepFund_Ethereum/refs/heads/main/Contest_2_POND/Datasets/data_contest_all_repos.csv')"
   ]
  },
  {
   "cell_type": "code",
   "execution_count": 3,
   "id": "51b7a0d3-079c-4aa8-9519-67892bfaf544",
   "metadata": {},
   "outputs": [],
   "source": [
    "# GitHub токен\n",
    "GITHUB_TOKEN = \"GITHUB_TOKEN\"\n",
    "HEADERS = {\"Authorization\": f\"token {GITHUB_TOKEN}\"}"
   ]
  },
  {
   "cell_type": "code",
   "execution_count": 11,
   "id": "e308083a-d0b5-4031-845b-3463276312e7",
   "metadata": {},
   "outputs": [],
   "source": [
    "# Функция для извлечения данных о языках из GitHub API\n",
    "def get_repo_languages(repo):\n",
    "    try:\n",
    "        # Извлечение {owner}/{repo} из URL\n",
    "        repo_path = \"/\".join(repo.split(\"/\")[-2:])\n",
    "        api_url = f\"https://api.github.com/repos/{repo_path}/languages\"\n",
    "\n",
    "        response = requests.get(api_url, headers=HEADERS)\n",
    "\n",
    "        # Обработка ошибок\n",
    "        if response.status_code == 403:\n",
    "            print(f\"Rate limit exceeded or forbidden access for {repo_url}. Retrying after a pause...\")\n",
    "            time.sleep(10)\n",
    "            return None\n",
    "        elif response.status_code == 404:\n",
    "            print(f\"Repository {repo_url} not found.\")\n",
    "            return None\n",
    "        elif response.status_code == 200:\n",
    "            return response.json()\n",
    "        else:\n",
    "            print(f\"Error fetching data for {repo_url}: {response.status_code}\")\n",
    "            return None\n",
    "    except Exception as e:\n",
    "        print(f\"Exception: {e}\")\n",
    "        return None"
   ]
  },
  {
   "cell_type": "code",
   "execution_count": 12,
   "id": "65dfb2a6-fe3f-4822-85fa-d7170b546b26",
   "metadata": {},
   "outputs": [],
   "source": [
    "# Функция для обработки строки и добавления информации о языках\n",
    "def add_github_languages(row):\n",
    "    repo_url = row['repo']\n",
    "    languages_data = get_repo_languages(repo_url)\n",
    "\n",
    "    if not languages_data:\n",
    "        return []\n",
    "\n",
    "    # Вычислим общий процент, чтобы найти относительные значения\n",
    "    total_bytes = sum(languages_data.values())\n",
    "    languages_filtered = []\n",
    "\n",
    "    for lang, bytes_count in languages_data.items():\n",
    "        percentage = (bytes_count / total_bytes) * 100\n",
    "        if percentage > 5.0:\n",
    "            languages_filtered.append({\"repo_url\": repo_url, \"languages\": lang, \"%\": round(percentage, 2)})\n",
    "\n",
    "    return languages_filtered"
   ]
  },
  {
   "cell_type": "code",
   "execution_count": 13,
   "id": "26cc1421-5ad8-4c7f-ab95-623404397ce5",
   "metadata": {},
   "outputs": [],
   "source": [
    "# Применение функции ко всей таблице и преобразование в итоговый DataFrame\n",
    "all_languages = []\n",
    "\n",
    "for _, row in repos.iterrows():\n",
    "    languages_info = add_github_languages(row)\n",
    "    all_languages.extend(languages_info)"
   ]
  },
  {
   "cell_type": "code",
   "execution_count": 14,
   "id": "336836e8-ce77-41e4-8b00-ea5df403594a",
   "metadata": {},
   "outputs": [],
   "source": [
    "# Преобразуем результаты в DataFrame\n",
    "result_df = pd.DataFrame(all_languages)"
   ]
  },
  {
   "cell_type": "code",
   "execution_count": 15,
   "id": "3477abb8-4e7b-4832-ad3a-60c98475ac67",
   "metadata": {},
   "outputs": [],
   "source": [
    "# Сохраняем результаты в CSV файл\n",
    "result_df.to_csv('deepfund_metric_languages.csv', index=False)"
   ]
  },
  {
   "cell_type": "code",
   "execution_count": 16,
   "id": "4c4abd70-20aa-4159-a49c-ea0398c2896b",
   "metadata": {},
   "outputs": [
    {
     "name": "stdout",
     "output_type": "stream",
     "text": [
      "                                   repo_url   languages       %\n",
      "0          https://github.com/mochajs/mocha  JavaScript   99.03\n",
      "1        https://github.com/chzyer/readline          Go  100.00\n",
      "2            https://github.com/gulpjs/gulp  JavaScript  100.00\n",
      "3        https://github.com/webpack/webpack  JavaScript   97.62\n",
      "4  https://github.com/redux-saga/redux-saga  JavaScript   82.37\n"
     ]
    }
   ],
   "source": [
    "# Вывод первых строк результата для проверки\n",
    "print(result_df.head())"
   ]
  },
  {
   "cell_type": "markdown",
   "id": "a649a162-1bff-4e85-9f71-ce1e67b1a73d",
   "metadata": {},
   "source": [
    "# НАЗНАЧЕНИЕ ВЕСОВ ЯЗЫКАМ ПРОГРАММИРОВАНИЯ "
   ]
  },
  {
   "cell_type": "code",
   "execution_count": 2,
   "id": "e0bb6776-444a-4332-b588-b83bf3a7dc98",
   "metadata": {},
   "outputs": [],
   "source": [
    "# Загрузим исходную таблицу\n",
    "languages = pd.read_csv('https://raw.githubusercontent.com/AndreyG75/AI-DeepFund_Ethereum/refs/heads/main/Contest_2_POND/Datasets/deepfund_metric_languages.csv')"
   ]
  },
  {
   "cell_type": "code",
   "execution_count": 3,
   "id": "ade16eff-81aa-4f27-aa49-1bfc6d1452dc",
   "metadata": {},
   "outputs": [
    {
     "name": "stdout",
     "output_type": "stream",
     "text": [
      "['Assembly', 'C', 'C#', 'C++', 'CSS', 'Cython', 'Go', 'HTML', 'Java', 'JavaScript', 'MDX', 'Nim', 'Objective-C++', 'PHP', 'Python', 'Rust', 'Shell', 'Solidity', 'Starlark', 'Swift', 'TypeScript', 'Yul']\n"
     ]
    }
   ],
   "source": [
    "# Создаем пустое множество для уникальных значений\n",
    "unique_languages = set()\n",
    "\n",
    "# Пройдемся по каждому значению в столбце 'languages' и разделим по запятой\n",
    "languages['languages'].dropna().apply(lambda x: unique_languages.update(x.split(',')))\n",
    "\n",
    "# Преобразуем множество в отсортированный список\n",
    "unique_languages = sorted(unique_languages)\n",
    "\n",
    "# Выведем результат\n",
    "print(unique_languages)"
   ]
  },
  {
   "cell_type": "code",
   "execution_count": 4,
   "id": "13113062-2f2f-4363-a61e-2d354a665de1",
   "metadata": {},
   "outputs": [
    {
     "name": "stdout",
     "output_type": "stream",
     "text": [
      "Assembly\n",
      "C\n",
      "C#\n",
      "C++\n",
      "CSS\n",
      "Cython\n",
      "Go\n",
      "HTML\n",
      "Java\n",
      "JavaScript\n",
      "MDX\n",
      "Nim\n",
      "Objective-C++\n",
      "PHP\n",
      "Python\n",
      "Rust\n",
      "Shell\n",
      "Solidity\n",
      "Starlark\n",
      "Swift\n",
      "TypeScript\n",
      "Yul\n"
     ]
    }
   ],
   "source": [
    "# Опционально можно вывести список в виде строк, каждая на новой строке\n",
    "for lang in unique_languages:\n",
    "    print(lang)"
   ]
  },
  {
   "cell_type": "code",
   "execution_count": 5,
   "id": "a7e71c69-4f18-4f95-95a4-64bce7eaf5de",
   "metadata": {},
   "outputs": [
    {
     "name": "stdout",
     "output_type": "stream",
     "text": [
      "Количество уникальных языков программирования: 22\n"
     ]
    }
   ],
   "source": [
    "# Подсчет количества уникальных языков\n",
    "languages_count = len(unique_languages)\n",
    "\n",
    "# Вывод количества языков\n",
    "print(f\"Количество уникальных языков программирования: {languages_count}\")"
   ]
  },
  {
   "cell_type": "code",
   "execution_count": 6,
   "id": "805c4e57-f89f-4f6b-9cf1-3d441250d85c",
   "metadata": {},
   "outputs": [],
   "source": [
    "# Словарь с весами языков программирования\n",
    "language_weights = {\n",
    "    'Assembly': 85,\n",
    "    'C': 80,\n",
    "    'C#': 55,\n",
    "    'C++': 65,\n",
    "    'CSS': 30,\n",
    "    'Cython': 50,\n",
    "    'Go': 75,\n",
    "    'HTML': 30,\n",
    "    'Java': 60,\n",
    "    'JavaScript': 50,\n",
    "    'MDX': 35,\n",
    "    'Nim': 45,\n",
    "    'Objective-C++': 65,\n",
    "    'PHP': 40,\n",
    "    'Python': 70,\n",
    "    'Rust': 80,\n",
    "    'Shell': 45,\n",
    "    'Solidity': 100,\n",
    "    'Starlark': 35,\n",
    "    'Swift': 40,\n",
    "    'TypeScript': 55,\n",
    "    'Yul': 90\n",
    "}"
   ]
  },
  {
   "cell_type": "code",
   "execution_count": 8,
   "id": "48fb4cc8-26c3-42e4-af37-2707eabacedd",
   "metadata": {},
   "outputs": [],
   "source": [
    "# Функция для вычисления суммарного веса по списку языков\n",
    "def calculate_weight(language_list):\n",
    "    return sum(language_weights.get(lang.strip(), 0) for lang in language_list.split(','))"
   ]
  },
  {
   "cell_type": "code",
   "execution_count": 9,
   "id": "4cb2e4a6-9658-4650-a07e-b810a6e3053f",
   "metadata": {},
   "outputs": [],
   "source": [
    "# Добавление нового столбца \"weight\" в таблицу\n",
    "languages['weight'] = languages['languages'].apply(lambda x: calculate_weight(x) if pd.notna(x) else 0)"
   ]
  },
  {
   "cell_type": "code",
   "execution_count": 10,
   "id": "fe18115a-7cb7-415b-8266-7f49d3cea0e1",
   "metadata": {},
   "outputs": [
    {
     "name": "stdout",
     "output_type": "stream",
     "text": [
      "                                   repo_url   languages       %  weight\n",
      "0          https://github.com/mochajs/mocha  JavaScript   99.03      50\n",
      "1        https://github.com/chzyer/readline          Go  100.00      75\n",
      "2            https://github.com/gulpjs/gulp  JavaScript  100.00      50\n",
      "3        https://github.com/webpack/webpack  JavaScript   97.62      50\n",
      "4  https://github.com/redux-saga/redux-saga  JavaScript   82.37      50\n"
     ]
    }
   ],
   "source": [
    "# Вывод первых строк таблицы для проверки\n",
    "print(languages.head())"
   ]
  },
  {
   "cell_type": "code",
   "execution_count": 11,
   "id": "29af493f-02be-4c62-9547-5153714bb343",
   "metadata": {},
   "outputs": [],
   "source": [
    "# Добавление столбца \"score\" с расчетом\n",
    "languages['score'] = (languages['%'] * languages['weight'] / 100).round().astype(int)"
   ]
  },
  {
   "cell_type": "code",
   "execution_count": 12,
   "id": "31cc3cb5-0172-48b8-90dd-c94f5ee87d0c",
   "metadata": {},
   "outputs": [
    {
     "name": "stdout",
     "output_type": "stream",
     "text": [
      "                                   repo_url   languages       %  weight  score\n",
      "0          https://github.com/mochajs/mocha  JavaScript   99.03      50     50\n",
      "1        https://github.com/chzyer/readline          Go  100.00      75     75\n",
      "2            https://github.com/gulpjs/gulp  JavaScript  100.00      50     50\n",
      "3        https://github.com/webpack/webpack  JavaScript   97.62      50     49\n",
      "4  https://github.com/redux-saga/redux-saga  JavaScript   82.37      50     41\n"
     ]
    }
   ],
   "source": [
    "print(languages.head())"
   ]
  },
  {
   "cell_type": "code",
   "execution_count": 13,
   "id": "d215f8ae-ada0-4cfa-b8a5-fa45dfe29b40",
   "metadata": {},
   "outputs": [],
   "source": [
    "# Сохранение результата в новый CSV \n",
    "languages.to_csv('deepfund_metric_languages_calc.csv', index=False)"
   ]
  },
  {
   "cell_type": "code",
   "execution_count": 14,
   "id": "f528c451-4f8e-4681-8683-68b960d20f95",
   "metadata": {},
   "outputs": [],
   "source": [
    "# Создание новой таблицы languages_score с нужными столбцами\n",
    "languages_score = languages[['repo_url', 'score']].copy()"
   ]
  },
  {
   "cell_type": "code",
   "execution_count": 15,
   "id": "c4c8097f-4142-4aa6-8048-7ab5c1d573d1",
   "metadata": {},
   "outputs": [],
   "source": [
    "# Переименование столбца repo_url в repo\n",
    "languages_score.rename(columns={'repo_url': 'repo'}, inplace=True)"
   ]
  },
  {
   "cell_type": "code",
   "execution_count": 16,
   "id": "19ab1955-52d0-4037-a3ec-bdc08574fdc8",
   "metadata": {},
   "outputs": [],
   "source": [
    "# Группировка по столбцу 'repo' и суммирование значений score\n",
    "languages_score = languages_score.groupby('repo', as_index=False)['score'].sum()"
   ]
  },
  {
   "cell_type": "code",
   "execution_count": 17,
   "id": "073d7315-f685-401f-b55d-2c9176786ae0",
   "metadata": {},
   "outputs": [
    {
     "name": "stdout",
     "output_type": "stream",
     "text": [
      "                                           repo  score\n",
      "0          https://github.com/ajv-validator/ajv     54\n",
      "1  https://github.com/alexeyraspopov/picocolors     50\n",
      "2              https://github.com/alloy-rs/core     81\n",
      "3                https://github.com/axios/axios     50\n",
      "4                https://github.com/babel/babel     53\n"
     ]
    }
   ],
   "source": [
    "# Вывод таблицы для проверки\n",
    "print(languages_score.head())"
   ]
  },
  {
   "cell_type": "code",
   "execution_count": 18,
   "id": "fbc21ae5-7461-4f93-941e-b6d9232b5d0a",
   "metadata": {},
   "outputs": [],
   "source": [
    "# Сохранение результата в файл \n",
    "languages_score.to_csv('deepfunding_metric_languages_score.csv', index=False)"
   ]
  },
  {
   "cell_type": "code",
   "execution_count": 19,
   "id": "5a9f198b-3bfa-480b-a2db-a7770b2e941f",
   "metadata": {},
   "outputs": [
    {
     "name": "stdout",
     "output_type": "stream",
     "text": [
      "Количество строк: 117\n"
     ]
    }
   ],
   "source": [
    "# Вывод количества строк с использованием свойства shape\n",
    "print(\"Количество строк:\", languages_score.shape[0])  # альтернатива len(languages_score)"
   ]
  },
  {
   "cell_type": "code",
   "execution_count": null,
   "id": "db16ade0-4f25-4b36-b90e-c994b6bfde36",
   "metadata": {},
   "outputs": [],
   "source": []
  }
 ],
 "metadata": {
  "kernelspec": {
   "display_name": "Python 3 (ipykernel)",
   "language": "python",
   "name": "python3"
  },
  "language_info": {
   "codemirror_mode": {
    "name": "ipython",
    "version": 3
   },
   "file_extension": ".py",
   "mimetype": "text/x-python",
   "name": "python",
   "nbconvert_exporter": "python",
   "pygments_lexer": "ipython3",
   "version": "3.12.2"
  }
 },
 "nbformat": 4,
 "nbformat_minor": 5
}
